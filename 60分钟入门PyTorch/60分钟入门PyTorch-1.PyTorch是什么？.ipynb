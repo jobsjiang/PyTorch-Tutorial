{
 "cells": [
  {
   "cell_type": "markdown",
   "metadata": {},
   "source": [
    "https://github.com/fengdu78/machine_learning_beginner/tree/master/PyTorch_beginner"
   ]
  },
  {
   "cell_type": "markdown",
   "metadata": {},
   "source": [
    "#### 张量"
   ]
  },
  {
   "cell_type": "code",
   "execution_count": 2,
   "metadata": {},
   "outputs": [],
   "source": [
    "import torch"
   ]
  },
  {
   "cell_type": "code",
   "execution_count": 3,
   "metadata": {},
   "outputs": [
    {
     "name": "stdout",
     "output_type": "stream",
     "text": [
      "tensor([[8.0631e-19, 6.3339e-43, 8.0631e-19],\n",
      "        [6.3339e-43, 8.0637e-19, 6.3339e-43],\n",
      "        [8.0637e-19, 6.3339e-43, 8.0631e-19],\n",
      "        [6.3339e-43, 8.0631e-19, 6.3339e-43],\n",
      "        [8.0634e-19, 6.3339e-43, 8.0634e-19]])\n"
     ]
    }
   ],
   "source": [
    "x = torch.Tensor(5,3)\n",
    "print(x)"
   ]
  },
  {
   "cell_type": "code",
   "execution_count": 5,
   "metadata": {},
   "outputs": [
    {
     "name": "stdout",
     "output_type": "stream",
     "text": [
      "tensor([[0, 0, 0],\n",
      "        [0, 0, 0],\n",
      "        [0, 0, 0],\n",
      "        [0, 0, 0],\n",
      "        [0, 0, 0]])\n"
     ]
    }
   ],
   "source": [
    "x = torch.zeros(5,3,dtype=torch.long)\n",
    "print(x)"
   ]
  },
  {
   "cell_type": "code",
   "execution_count": 6,
   "metadata": {},
   "outputs": [
    {
     "name": "stdout",
     "output_type": "stream",
     "text": [
      "tensor([5.5000, 3.0000])\n"
     ]
    }
   ],
   "source": [
    "# 从数据中直接构建一个张量(tensor)\n",
    "x = torch.Tensor([5.5,3])\n",
    "print(x)"
   ]
  },
  {
   "cell_type": "code",
   "execution_count": 7,
   "metadata": {},
   "outputs": [
    {
     "name": "stdout",
     "output_type": "stream",
     "text": [
      "tensor([[1., 1., 1.],\n",
      "        [1., 1., 1.],\n",
      "        [1., 1., 1.],\n",
      "        [1., 1., 1.],\n",
      "        [1., 1., 1.]], dtype=torch.float64)\n",
      "tensor([[0.5521, 0.8780, 0.1637],\n",
      "        [0.1771, 0.4524, 0.7606],\n",
      "        [0.1309, 0.4016, 0.6090],\n",
      "        [0.2898, 0.8179, 0.2229],\n",
      "        [0.7492, 0.4238, 0.9067]])\n"
     ]
    }
   ],
   "source": [
    "# 或者在已有的张量(tensor)中创建一个张量(tensor),这些方法将重用输入张量的属性，例如，dtype,除非用户提供新值\n",
    "x = x.new_ones(5,3,dtype=torch.double)\n",
    "print(x)\n",
    "x = torch.rand_like(x,dtype=torch.float) # 覆盖类型 size相同\n",
    "print(x)"
   ]
  },
  {
   "cell_type": "code",
   "execution_count": 8,
   "metadata": {},
   "outputs": [
    {
     "name": "stdout",
     "output_type": "stream",
     "text": [
      "torch.Size([5, 3])\n"
     ]
    }
   ],
   "source": [
    "# 获取张量(tensor)的大小\n",
    "print(x.size())"
   ]
  },
  {
   "cell_type": "code",
   "execution_count": 9,
   "metadata": {},
   "outputs": [],
   "source": [
    "# torch.size实际上是一个元组，所以它支持元组的所有操作"
   ]
  },
  {
   "cell_type": "code",
   "execution_count": 10,
   "metadata": {},
   "outputs": [
    {
     "name": "stdout",
     "output_type": "stream",
     "text": [
      "tensor([[1.5521, 1.8780, 1.1637],\n",
      "        [1.1771, 1.4524, 1.7606],\n",
      "        [1.1309, 1.4016, 1.6090],\n",
      "        [1.2898, 1.8179, 1.2229],\n",
      "        [1.7492, 1.4238, 1.9067]], device='cuda:0')\n",
      "tensor([[1.5521, 1.8780, 1.1637],\n",
      "        [1.1771, 1.4524, 1.7606],\n",
      "        [1.1309, 1.4016, 1.6090],\n",
      "        [1.2898, 1.8179, 1.2229],\n",
      "        [1.7492, 1.4238, 1.9067]], dtype=torch.float64)\n"
     ]
    }
   ],
   "source": [
    "# cuda张量 可用使用.to方法将张量移动到任何设备上\n",
    "if torch.cuda.is_available():\n",
    "    device = torch.device(\"cuda\")\n",
    "    y = torch.ones_like(x,device=device)\n",
    "    x = x.to(device)\n",
    "    z = x + y\n",
    "    print(z)\n",
    "    print(z.to(\"cpu\",torch.double))"
   ]
  },
  {
   "cell_type": "code",
   "execution_count": null,
   "metadata": {},
   "outputs": [],
   "source": []
  }
 ],
 "metadata": {
  "kernelspec": {
   "display_name": "Python [conda env:root] *",
   "language": "python",
   "name": "conda-root-py"
  },
  "language_info": {
   "codemirror_mode": {
    "name": "ipython",
    "version": 3
   },
   "file_extension": ".py",
   "mimetype": "text/x-python",
   "name": "python",
   "nbconvert_exporter": "python",
   "pygments_lexer": "ipython3",
   "version": "3.6.5"
  }
 },
 "nbformat": 4,
 "nbformat_minor": 4
}
