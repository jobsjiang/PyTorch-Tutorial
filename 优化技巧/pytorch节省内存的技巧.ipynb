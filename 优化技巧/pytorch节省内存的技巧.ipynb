{
 "cells": [
  {
   "cell_type": "markdown",
   "metadata": {},
   "source": [
    "https://mp.weixin.qq.com/s?__biz=MzU3NjE4NjQ4MA==&mid=2247488098&idx=3&sn=f0ba3f773b0e80bedef6fc937280a164&chksm=fd16e37dca616a6b474f7b71dbf642401167fd8591f64118ab0c8f08f37c2eef9be6f0906af6&scene=126&sessionid=1587192811&key=f7d311462f93f24dbd342cca24d95beb9cb75dbe54de2ad3bc35e590281823cbe0789faac1c728fb54fd3fd5125de64640bd0726ceaebd7b3af60ea228efb46c5881160433babf22d9a17d1841b4ce59&ascene=1&uin=MjA1MjAyODkxNg%3D%3D&devicetype=Windows+10&version=62090045&lang=zh_CN&exportkey=AWhV%2BlGXR1luTGTyslTiebg%3D&pass_ticket=92hCyFAvq8QJSZ4oejdFRaFJabGXuPW9Tj8FPvBk%2Bao4Re6Oqxsl37LM4G5D3brd"
   ]
  },
  {
   "cell_type": "code",
   "execution_count": null,
   "metadata": {},
   "outputs": [],
   "source": []
  }
 ],
 "metadata": {
  "kernelspec": {
   "display_name": "Python [conda env:root] *",
   "language": "python",
   "name": "conda-root-py"
  },
  "language_info": {
   "codemirror_mode": {
    "name": "ipython",
    "version": 3
   },
   "file_extension": ".py",
   "mimetype": "text/x-python",
   "name": "python",
   "nbconvert_exporter": "python",
   "pygments_lexer": "ipython3",
   "version": "3.6.5"
  }
 },
 "nbformat": 4,
 "nbformat_minor": 4
}
