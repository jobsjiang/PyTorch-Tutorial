{
 "cells": [
  {
   "cell_type": "markdown",
   "metadata": {},
   "source": [
    "https://mp.weixin.qq.com/s?__biz=MzIyODI1MzYyNA==&mid=2653540688&idx=1&sn=668e9a979b79dc589c6e5b74aff92bcd&chksm=f389bb87c4fe3291d4ff1f1e34178362e91273e2ce3849da546ae6743039877acef6a8da50dc&mpshare=1&scene=1&srcid=&sharer_sharetime=1575935464736&sharer_shareid=b8cfc4c06ec8c7d38cf405a9002f5794&key=4c932049eeeeca5c9a87345bea8aa70b05094b0d2b580bcb680e40aeedf40f4579463f9714ab49d4ffd04de6f65ce4d7cacfeb6686560448c4797925a078a49696c5998ceada7bb4569ff137e6f892d9&ascene=1&uin=MjA1MjAyODkxNg%3D%3D&devicetype=Windows+10&version=62070158&lang=zh_CN&exportkey=AXAFZ0Q1RitswIFrVbccX44%3D&pass_ticket=KY9MBwjpXCyci72ezbP%2F6y4QgbR%2FUxOZ8zoCsGsKz8pQ8pEEzfTz9rWtgN90rkuv"
   ]
  },
  {
   "cell_type": "code",
   "execution_count": 2,
   "metadata": {},
   "outputs": [],
   "source": [
    "import torch.nn as nn\n",
    "import torch.nn.functional as F"
   ]
  },
  {
   "cell_type": "code",
   "execution_count": null,
   "metadata": {},
   "outputs": [],
   "source": [
    "class Model(nn.Module):\n",
    "    def __init__(self):\n",
    "        super(Model,self).__init__()\n",
    "        self.conv1 = nn.Conv2d(1,20,5)\n",
    "        self.conv2 = nn.Conv2d(20,20,5)\n",
    "    def forward(self,x):\n",
    "        x = F.relu(self.conv1(x))\n",
    "        return F.relu(self.conv2(x))"
   ]
  },
  {
   "cell_type": "code",
   "execution_count": null,
   "metadata": {},
   "outputs": [],
   "source": []
  }
 ],
 "metadata": {
  "kernelspec": {
   "display_name": "Python [conda env:root] *",
   "language": "python",
   "name": "conda-root-py"
  },
  "language_info": {
   "codemirror_mode": {
    "name": "ipython",
    "version": 3
   },
   "file_extension": ".py",
   "mimetype": "text/x-python",
   "name": "python",
   "nbconvert_exporter": "python",
   "pygments_lexer": "ipython3",
   "version": "3.6.5"
  }
 },
 "nbformat": 4,
 "nbformat_minor": 4
}
