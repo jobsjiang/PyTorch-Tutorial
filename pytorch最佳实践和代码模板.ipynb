{
 "cells": [
  {
   "cell_type": "markdown",
   "metadata": {},
   "source": [
    "https://mp.weixin.qq.com/s?__biz=MzIwOTc2MTUyMg==&mid=2247495027&idx=4&sn=79fcff7f30caba26747ddcf83083b058&chksm=976c48eea01bc1f84b82bbffa24d516f45bf5143f51ee65f97d6f3a1a9a82a75b91335281439&scene=0&xtrack=1&key=c74f5a077393516da654d0291b0fd1bcc9ea24268eac2b41c844204376d1bc630cae687aa6f2374bd1970aaddd23b3d75c78a48b34390a8324d1d328b5339f8adafd4f72aa6db3447a93391b639dddca&ascene=1&uin=MjA1MjAyODkxNg%3D%3D&devicetype=Windows+10&version=62070158&lang=zh_CN&exportkey=AUq0v%2FvgkgMu1UfFw%2FRDD5c%3D&pass_ticket=yDeZK1Ni9KdAek9Qn0y9yt8%2FI9Z0iF9V0FcStIMYOASiSWgy5Oz8FBfSq38MQyGM"
   ]
  },
  {
   "cell_type": "code",
   "execution_count": null,
   "metadata": {},
   "outputs": [],
   "source": []
  }
 ],
 "metadata": {
  "kernelspec": {
   "display_name": "Python [conda env:root] *",
   "language": "python",
   "name": "conda-root-py"
  },
  "language_info": {
   "codemirror_mode": {
    "name": "ipython",
    "version": 3
   },
   "file_extension": ".py",
   "mimetype": "text/x-python",
   "name": "python",
   "nbconvert_exporter": "python",
   "pygments_lexer": "ipython3",
   "version": "3.6.5"
  },
  "toc": {
   "base_numbering": 1,
   "nav_menu": {},
   "number_sections": true,
   "sideBar": true,
   "skip_h1_title": false,
   "title_cell": "Table of Contents",
   "title_sidebar": "Contents",
   "toc_cell": false,
   "toc_position": {},
   "toc_section_display": true,
   "toc_window_display": false
  }
 },
 "nbformat": 4,
 "nbformat_minor": 2
}
