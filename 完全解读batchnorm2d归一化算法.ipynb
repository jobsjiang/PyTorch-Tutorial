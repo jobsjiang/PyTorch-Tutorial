{
 "cells": [
  {
   "cell_type": "markdown",
   "metadata": {},
   "source": [
    "https://mp.weixin.qq.com/s?__biz=MzU0MDQ1NjAzNg==&mid=2247488468&idx=1&sn=f2fc795435f9435e262f377eba991f51&chksm=fb39b6dfcc4e3fc9612d1d40591d0845f70d55eca0e2ccd857ce77ffaf1b9a6854926ec32ae1&mpshare=1&scene=23&srcid=&sharer_sharetime=1578963245765&sharer_shareid=7514b1d9c703dce6eeef59e0c32193fd#rd"
   ]
  },
  {
   "cell_type": "code",
   "execution_count": 1,
   "metadata": {},
   "outputs": [],
   "source": [
    "import numpy as np\n",
    "import torch\n",
    "import torch.nn as nn"
   ]
  },
  {
   "cell_type": "code",
   "execution_count": 4,
   "metadata": {},
   "outputs": [
    {
     "name": "stdout",
     "output_type": "stream",
     "text": [
      "training True\n",
      "runing_mean tensor([[[[1., 1., 1.],\n",
      "          [1., 1., 1.],\n",
      "          [1., 1., 1.]],\n",
      "\n",
      "         [[1., 1., 1.],\n",
      "          [1., 1., 1.],\n",
      "          [1., 1., 1.]],\n",
      "\n",
      "         [[1., 1., 1.],\n",
      "          [1., 1., 1.],\n",
      "          [1., 1., 1.]]],\n",
      "\n",
      "\n",
      "        [[[1., 1., 1.],\n",
      "          [1., 1., 1.],\n",
      "          [1., 1., 1.]],\n",
      "\n",
      "         [[1., 1., 1.],\n",
      "          [1., 1., 1.],\n",
      "          [1., 1., 1.]],\n",
      "\n",
      "         [[1., 1., 1.],\n",
      "          [1., 1., 1.],\n",
      "          [1., 1., 1.]]],\n",
      "\n",
      "\n",
      "        [[[1., 1., 1.],\n",
      "          [1., 1., 1.],\n",
      "          [1., 1., 1.]],\n",
      "\n",
      "         [[1., 1., 1.],\n",
      "          [1., 1., 1.],\n",
      "          [1., 1., 1.]],\n",
      "\n",
      "         [[1., 1., 1.],\n",
      "          [1., 1., 1.],\n",
      "          [1., 1., 1.]]]], device='cuda:0')\n",
      "running_var tensor([[1., 1., 1.],\n",
      "        [1., 1., 1.],\n",
      "        [1., 1., 1.]], device='cuda:0')\n",
      "weight Parameter containing:\n",
      "tensor([1., 1., 1.], device='cuda:0', requires_grad=True)\n",
      "bias Parameter containing:\n",
      "tensor([0., 0., 0.], device='cuda:0', requires_grad=True)\n"
     ]
    }
   ],
   "source": [
    "m3 = nn.BatchNorm2d(3,eps=0,momentum=0.5,affine=True,track_running_stats=True).cuda()\n",
    "# 为了方便验证，设置模型参数的值\n",
    "m3.running_mean = (torch.ones([3]*4)).cuda() # 设置模型的均值是4\n",
    "m3.running_var = (torch.ones([3]*2)).cuda() # 设置模型的方差是2\n",
    "\n",
    "# 查看模型参数的值\n",
    "print('training',m3.training)\n",
    "print('runing_mean',m3.running_mean)\n",
    "print('running_var',m3.running_var)\n",
    "# gamma对应模型的weight,默认值是1\n",
    "print('weight',m3.weight)\n",
    "# gamma对应模型的bias,默认值是0\n",
    "print('bias',m3.bias)"
   ]
  },
  {
   "cell_type": "code",
   "execution_count": null,
   "metadata": {},
   "outputs": [],
   "source": []
  }
 ],
 "metadata": {
  "kernelspec": {
   "display_name": "Python [conda env:root] *",
   "language": "python",
   "name": "conda-root-py"
  },
  "language_info": {
   "codemirror_mode": {
    "name": "ipython",
    "version": 3
   },
   "file_extension": ".py",
   "mimetype": "text/x-python",
   "name": "python",
   "nbconvert_exporter": "python",
   "pygments_lexer": "ipython3",
   "version": "3.6.5"
  }
 },
 "nbformat": 4,
 "nbformat_minor": 2
}
