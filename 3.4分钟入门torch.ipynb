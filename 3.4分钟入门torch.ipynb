{
 "cells": [
  {
   "cell_type": "code",
   "execution_count": 1,
   "metadata": {},
   "outputs": [],
   "source": [
    "import torch"
   ]
  },
  {
   "cell_type": "code",
   "execution_count": 2,
   "metadata": {},
   "outputs": [
    {
     "name": "stdout",
     "output_type": "stream",
     "text": [
      "torch.Size([2, 3]) \n",
      " tensor([[1., 2., 3.],\n",
      "        [4., 5., 6.]])\n"
     ]
    }
   ],
   "source": [
    "# Tensors\n",
    "x = torch.FloatTensor([[1,2,3],[4,5,6]])\n",
    "print(x.size(),'\\n',x)"
   ]
  },
  {
   "cell_type": "code",
   "execution_count": 3,
   "metadata": {},
   "outputs": [
    {
     "data": {
      "text/plain": [
       "tensor([[3., 4., 5.],\n",
       "        [6., 7., 8.]])"
      ]
     },
     "execution_count": 3,
     "metadata": {},
     "output_type": "execute_result"
    }
   ],
   "source": [
    "# Add tensors\n",
    "x.add_(torch.ones([2,3]) + torch.ones([2,3]))"
   ]
  },
  {
   "cell_type": "code",
   "execution_count": 4,
   "metadata": {},
   "outputs": [
    {
     "data": {
      "text/plain": [
       "tensor([[1., 2., 3.],\n",
       "        [4., 5., 6.]])"
      ]
     },
     "execution_count": 4,
     "metadata": {},
     "output_type": "execute_result"
    }
   ],
   "source": [
    "# 此时x已经改变\n",
    "# Subtract Tensor\n",
    "x.sub_(torch.ones([2,3]) * 2)"
   ]
  },
  {
   "cell_type": "code",
   "execution_count": 6,
   "metadata": {},
   "outputs": [
    {
     "data": {
      "text/plain": [
       "tensor([[1, 2, 3],\n",
       "        [4, 5, 6]], dtype=torch.int16)"
      ]
     },
     "execution_count": 6,
     "metadata": {},
     "output_type": "execute_result"
    }
   ],
   "source": [
    "# Pytorch和Numpy转换\n",
    "import numpy as np\n",
    "y = np.matrix([[2,2],[2,2],[2,2]])\n",
    "z = np.matrix([[2,2],[2,2],[2,2]],dtype='int16')\n",
    "x.short()"
   ]
  },
  {
   "cell_type": "code",
   "execution_count": 7,
   "metadata": {},
   "outputs": [
    {
     "data": {
      "text/plain": [
       "tensor([[2, 2],\n",
       "        [2, 2],\n",
       "        [2, 2]], dtype=torch.int16)"
      ]
     },
     "execution_count": 7,
     "metadata": {},
     "output_type": "execute_result"
    }
   ],
   "source": [
    "torch.from_numpy(z)\n",
    "# 将tensor张量转换为numpy矩阵 tensor.numpy()\n",
    "# 将numpy转换为Variable sub_va = Variable(torch.from_numpy(sub_img))\n",
    "# 将Variable张量转化为numpy sub_np2 = sub_va.data.numpy()"
   ]
  },
  {
   "cell_type": "code",
   "execution_count": 8,
   "metadata": {},
   "outputs": [
    {
     "data": {
      "text/plain": [
       "tensor([[1., 2., 3., 4., 5., 6.]])"
      ]
     },
     "execution_count": 8,
     "metadata": {},
     "output_type": "execute_result"
    }
   ],
   "source": [
    "# Reshape tensors(similar to np.reshape)\n",
    "x.view(1,6)"
   ]
  },
  {
   "cell_type": "code",
   "execution_count": 9,
   "metadata": {},
   "outputs": [
    {
     "name": "stdout",
     "output_type": "stream",
     "text": [
      "tensor([[3., 4., 5.],\n",
      "        [6., 7., 8.]], device='cuda:0')\n",
      "tensor([[1., 2., 3.],\n",
      "        [4., 5., 6.]])\n"
     ]
    }
   ],
   "source": [
    "# CPU和GPUs\n",
    "x = torch.FloatTensor([[1,2,3],[4,5,6]])\n",
    "y = np.matrix([[2,2,2],[2,2,2]],dtype='float32')\n",
    "if (torch.cuda.is_available()):\n",
    "    x = x.cuda()\n",
    "    y = torch.from_numpy(y).cuda()\n",
    "    z = x + y\n",
    "print(z)\n",
    "print(x.cpu())"
   ]
  },
  {
   "cell_type": "code",
   "execution_count": 10,
   "metadata": {},
   "outputs": [
    {
     "data": {
      "text/plain": [
       "array([ 4., 10., 18.], dtype=float32)"
      ]
     },
     "execution_count": 10,
     "metadata": {},
     "output_type": "execute_result"
    }
   ],
   "source": [
    "# Pytorch Variables\n",
    "from torch.autograd import Variable\n",
    "v1 = Variable(torch.tensor([1.,2.,3.]),requires_grad = False)\n",
    "v2 = Variable(torch.tensor([4.,5.,6.]),requires_grad = True)\n",
    "v3 = v1 * v2\n",
    "v3.data.numpy()"
   ]
  },
  {
   "cell_type": "code",
   "execution_count": 11,
   "metadata": {},
   "outputs": [
    {
     "data": {
      "text/plain": [
       "<MulBackward0 at 0x23c1e98c908>"
      ]
     },
     "execution_count": 11,
     "metadata": {},
     "output_type": "execute_result"
    }
   ],
   "source": [
    "# Variables remember what created them\n",
    "v3.grad_fn"
   ]
  },
  {
   "cell_type": "code",
   "execution_count": 13,
   "metadata": {},
   "outputs": [
    {
     "name": "stdout",
     "output_type": "stream",
     "text": [
      "d(sin(x) / d(x) = cons(x))\n"
     ]
    }
   ],
   "source": [
    "# 反向传播\n",
    "# Backpropagation with example of sin(x)\n",
    "x = Variable(torch.Tensor(np.array([0.,1.,1.5,2.]) * np.pi),requires_grad = True)\n",
    "y = torch.sin(x)\n",
    "x.grad\n",
    "y.backward(torch.Tensor([1.,1.,1.,1]))\n",
    "# check gradient in indeed cos(x)\n",
    "if ((x.grad.data.int().numpy() == torch.cos(x).data.int().numpy()).all()):\n",
    "    print ('d(sin(x) / d(x) = cons(x))')"
   ]
  },
  {
   "cell_type": "code",
   "execution_count": 14,
   "metadata": {},
   "outputs": [],
   "source": [
    "# Simple Liner Regression\n",
    "#         Fit a line to the data. Y = w.x + b\n",
    "\n",
    "# Deterministic behavior\n",
    "np.random.seed(0)\n",
    "torch.manual_seed(0)\n",
    "\n",
    "\n",
    "# Step 1: Dataset\n",
    "\n",
    "w = 2; b = 3\n",
    "x = np.linspace(0, 10, 100)\n",
    "y = w*x + b + np.random.randn(100)*2\n",
    "x = x.reshape(-1, 1)\n",
    "y = y.reshape(-1, 1)"
   ]
  },
  {
   "cell_type": "code",
   "execution_count": 17,
   "metadata": {},
   "outputs": [],
   "source": [
    "# Step 2: Model\n",
    "\n",
    "class LinearRegressionModel(torch.nn.Module):\n",
    "    def __init__(self,in_dimn,out_dimn):\n",
    "        super(LinearRegressionModel,self).__init__()\n",
    "        self.model = torch.nn.Linear(in_dimn,out_dimn)\n",
    "    def forward(self,x):\n",
    "        y_pred = self.model(x)\n",
    "        return y_pred\n",
    "model = LinearRegressionModel(in_dimn=1,out_dimn=1)"
   ]
  },
  {
   "cell_type": "code",
   "execution_count": 18,
   "metadata": {},
   "outputs": [
    {
     "name": "stdout",
     "output_type": "stream",
     "text": [
      "epoch 10,loss 33.951412200927734\n",
      "epoch 20,loss 8.786260604858398\n",
      "epoch 30,loss 17.577659606933594\n",
      "epoch 40,loss 11.382862091064453\n",
      "epoch 50,loss 5.572602272033691\n",
      "epoch 60,loss 4.080413818359375\n",
      "epoch 70,loss 4.094191074371338\n",
      "epoch 80,loss 4.1218461990356445\n",
      "epoch 90,loss 4.069921493530273\n",
      "epoch 100,loss 4.03877067565918\n"
     ]
    }
   ],
   "source": [
    "# Step 3: Training\n",
    "cost = torch.nn.MSELoss()\n",
    "optimizer = torch.optim.SGD(model.parameters(),lr=0.01,momentum=0.9)\n",
    "inputs = Variable(torch.from_numpy(x.astype('float32')))\n",
    "outputs = Variable(torch.from_numpy(y.astype('float32')))\n",
    "for epoch in range(100):\n",
    "    # forward pass\n",
    "    y_pred = model(inputs)\n",
    "    # compute loss\n",
    "    loss = cost(y_pred,outputs)\n",
    "    # backward pass \n",
    "    optimizer.zero_grad()\n",
    "    loss.backward()\n",
    "    optimizer.step()\n",
    "    if ((epoch + 1) % 10 == 0):\n",
    "        print('epoch {},loss {}'.format(epoch + 1,loss.data))"
   ]
  },
  {
   "cell_type": "code",
   "execution_count": 23,
   "metadata": {},
   "outputs": [
    {
     "data": {
      "image/png": "[encoded data removed]",
      "text/plain": [
       "<Figure size 288x288 with 1 Axes>"
      ]
     },
     "metadata": {},
     "output_type": "display_data"
    }
   ],
   "source": [
    "# Step 4: Display model and confirm\n",
    "import matplotlib.pyplot as plt\n",
    "plt.figure(figsize=(4,4))\n",
    "plt.title('Model and Dataset')\n",
    "plt.xlabel('X')\n",
    "plt.ylabel('Y')\n",
    "plt.grid()\n",
    "plt.plot(x, y, 'ro', label='Dataset', marker='x', markersize=4)\n",
    "plt.plot(x, model.model.weight.item()*x+model.model.bias.item(), label='Regression Model')\n",
    "plt.legend()\n",
    "plt.show()"
   ]
  },
  {
   "cell_type": "code",
   "execution_count": null,
   "metadata": {},
   "outputs": [],
   "source": []
  }
 ],
 "metadata": {
  "kernelspec": {
   "display_name": "Python [conda env:root]",
   "language": "python",
   "name": "conda-root-py"
  },
  "language_info": {
   "codemirror_mode": {
    "name": "ipython",
    "version": 3
   },
   "file_extension": ".py",
   "mimetype": "text/x-python",
   "name": "python",
   "nbconvert_exporter": "python",
   "pygments_lexer": "ipython3",
   "version": "3.6.5"
  }
 },
 "nbformat": 4,
 "nbformat_minor": 4
}
