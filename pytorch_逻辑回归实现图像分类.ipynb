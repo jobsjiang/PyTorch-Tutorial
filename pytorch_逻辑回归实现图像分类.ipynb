{
 "cells": [
  {
   "cell_type": "markdown",
   "metadata": {},
   "source": [
    "https://mp.weixin.qq.com/s/nyCJ9TtpctLS3PW7t6Cmgg"
   ]
  },
  {
   "cell_type": "code",
   "execution_count": null,
   "metadata": {
    "ExecuteTime": {
     "end_time": "2019-07-12T12:31:03.267519Z",
     "start_time": "2019-07-12T12:31:03.264069Z"
    }
   },
   "outputs": [],
   "source": [
    "import torch\n",
    "import torchvision\n",
    "from torchvision.datasets import MNIST"
   ]
  },
  {
   "cell_type": "code",
   "execution_count": null,
   "metadata": {
    "ExecuteTime": {
     "end_time": "2019-07-12T12:31:14.280899Z",
     "start_time": "2019-07-12T12:31:14.275206Z"
    }
   },
   "outputs": [],
   "source": [
    "print(torch.__version__)"
   ]
  },
  {
   "cell_type": "code",
   "execution_count": null,
   "metadata": {
    "ExecuteTime": {
     "end_time": "2019-07-12T12:34:00.113771Z",
     "start_time": "2019-07-12T12:33:12.290016Z"
    }
   },
   "outputs": [],
   "source": [
    "dataset = MNIST(root='../dataset/',download=True)"
   ]
  },
  {
   "cell_type": "code",
   "execution_count": null,
   "metadata": {},
   "outputs": [],
   "source": [
    "test_dataset = MNIST(root='../dataset/',train=False)\n",
    "len(test_dataset)"
   ]
  },
  {
   "cell_type": "code",
   "execution_count": null,
   "metadata": {},
   "outputs": [],
   "source": [
    "dataset[0]"
   ]
  },
  {
   "cell_type": "code",
   "execution_count": null,
   "metadata": {},
   "outputs": [],
   "source": [
    "import matplotlib.pyplot as plt\n",
    "%matplotlib inline"
   ]
  },
  {
   "cell_type": "code",
   "execution_count": null,
   "metadata": {
    "scrolled": true
   },
   "outputs": [],
   "source": [
    "image,label = dataset[0]\n",
    "plt.imshow(image)\n",
    "print('Label:',label)"
   ]
  },
  {
   "cell_type": "code",
   "execution_count": null,
   "metadata": {},
   "outputs": [],
   "source": [
    "# Pytorch无法直接处理图像，需要将图像转换成tensor\n",
    "import torchvision.transforms as transforms"
   ]
  },
  {
   "cell_type": "code",
   "execution_count": null,
   "metadata": {},
   "outputs": [],
   "source": [
    "dataset = MNIST(root='../dataset/',train=True,transform=transforms.ToTensor())"
   ]
  },
  {
   "cell_type": "code",
   "execution_count": null,
   "metadata": {},
   "outputs": [],
   "source": [
    "img_tensor,label = dataset[0]\n",
    "print(img_tensor.shape,label)"
   ]
  },
  {
   "cell_type": "code",
   "execution_count": null,
   "metadata": {},
   "outputs": [],
   "source": [
    "print(img_tensor[:,10:15,10:15])"
   ]
  },
  {
   "cell_type": "code",
   "execution_count": null,
   "metadata": {},
   "outputs": [],
   "source": [
    "plt.imshow(img_tensor[0],cmap='gray')"
   ]
  },
  {
   "cell_type": "code",
   "execution_count": 17,
   "metadata": {},
   "outputs": [],
   "source": [
    "import numpy as np"
   ]
  },
  {
   "cell_type": "code",
   "execution_count": 18,
   "metadata": {},
   "outputs": [],
   "source": [
    "# 训练和验证数据集\n",
    "import numpy as np\n",
    "def split_indices(n,val_pct):\n",
    "    # 定义验证集的大小\n",
    "    n_val = int(val_pct*n)\n",
    "    # 创建随机0到n-1的数列\n",
    "    idxs = np.random.permutation(n)\n",
    "    # 挑选第一个n_val为验证集的开始\n",
    "    return idxs[n_val:],idxs[:n_val]"
   ]
  },
  {
   "cell_type": "code",
   "execution_count": 19,
   "metadata": {},
   "outputs": [],
   "source": [
    "train_indices, val_indices = split_indices(len(dataset), val_pct=0.2)"
   ]
  },
  {
   "cell_type": "code",
   "execution_count": 20,
   "metadata": {},
   "outputs": [
    {
     "name": "stdout",
     "output_type": "stream",
     "text": [
      "48000 12000\n",
      "Sample val indices:  [18440 11347 30943 56540 34263 30533 42999  3012 45960 43659  5591 54299\n",
      " 13217 47201 17430 18758 50043 37672 37188 41691]\n"
     ]
    }
   ],
   "source": [
    "print(len(train_indices), len(val_indices))\n",
    "print('Sample val indices: ', val_indices[:20])"
   ]
  },
  {
   "cell_type": "code",
   "execution_count": 21,
   "metadata": {},
   "outputs": [],
   "source": [
    "from torch.utils.data.sampler import SubsetRandomSampler\n",
    "from torch.utils.data.dataloader import DataLoader"
   ]
  },
  {
   "cell_type": "code",
   "execution_count": 22,
   "metadata": {},
   "outputs": [],
   "source": [
    "batch_size=100\n",
    "\n",
    "# Training sampler and data loader\n",
    "train_sampler = SubsetRandomSampler(train_indices)\n",
    "train_loader = DataLoader(dataset, \n",
    "                          batch_size, \n",
    "                          sampler=train_sampler)\n",
    "\n",
    "# Validation sampler and data loader\n",
    "val_sampler = SubsetRandomSampler(val_indices)\n",
    "val_loader = DataLoader(dataset,\n",
    "                        batch_size, \n",
    "                        sampler=val_sampler)"
   ]
  },
  {
   "cell_type": "code",
   "execution_count": 24,
   "metadata": {},
   "outputs": [],
   "source": [
    "# 模型\n",
    "import torch.nn as nn"
   ]
  },
  {
   "cell_type": "code",
   "execution_count": 25,
   "metadata": {},
   "outputs": [],
   "source": [
    "input_size = 28*28\n",
    "num_classes = 10\n",
    "# 逻辑回归模型\n",
    "model = nn.Linear(input_size,num_classes)"
   ]
  },
  {
   "cell_type": "code",
   "execution_count": 26,
   "metadata": {},
   "outputs": [
    {
     "name": "stdout",
     "output_type": "stream",
     "text": [
      "torch.Size([10, 784])\n"
     ]
    },
    {
     "data": {
      "text/plain": [
       "Parameter containing:\n",
       "tensor([[ 0.0259,  0.0195, -0.0271,  ...,  0.0318, -0.0343, -0.0080],\n",
       "        [-0.0091,  0.0149,  0.0291,  ..., -0.0253,  0.0189, -0.0234],\n",
       "        [-0.0185, -0.0136, -0.0034,  ...,  0.0228, -0.0335, -0.0210],\n",
       "        ...,\n",
       "        [ 0.0348,  0.0333, -0.0329,  ..., -0.0343, -0.0147,  0.0090],\n",
       "        [ 0.0244, -0.0094, -0.0194,  ...,  0.0144, -0.0071,  0.0046],\n",
       "        [-0.0004, -0.0088,  0.0307,  ..., -0.0025,  0.0252, -0.0095]],\n",
       "       requires_grad=True)"
      ]
     },
     "execution_count": 26,
     "metadata": {},
     "output_type": "execute_result"
    }
   ],
   "source": [
    "print(model.weight.shape)\n",
    "model.weight"
   ]
  },
  {
   "cell_type": "code",
   "execution_count": 27,
   "metadata": {},
   "outputs": [
    {
     "name": "stdout",
     "output_type": "stream",
     "text": [
      "torch.Size([10])\n"
     ]
    },
    {
     "data": {
      "text/plain": [
       "Parameter containing:\n",
       "tensor([-0.0106, -0.0085, -0.0010,  0.0169,  0.0084,  0.0105, -0.0253, -0.0155,\n",
       "        -0.0034, -0.0231], requires_grad=True)"
      ]
     },
     "execution_count": 27,
     "metadata": {},
     "output_type": "execute_result"
    }
   ],
   "source": [
    "print(model.bias.shape)\n",
    "model.bias"
   ]
  },
  {
   "cell_type": "code",
   "execution_count": 29,
   "metadata": {},
   "outputs": [],
   "source": [
    "# reshape\n",
    "class MnistModel(nn.Module):\n",
    "    def __init__(self):\n",
    "        super().__init__()\n",
    "        self.linear = nn.Linear(input_size,num_classes)\n",
    "    def forward(self,xb):\n",
    "        xb = xb.reshape(-1,784)\n",
    "        out = self.linear(xb)\n",
    "        return out\n",
    "model = MnistModel()"
   ]
  },
  {
   "cell_type": "code",
   "execution_count": 30,
   "metadata": {},
   "outputs": [
    {
     "name": "stdout",
     "output_type": "stream",
     "text": [
      "torch.Size([10, 784]) torch.Size([10])\n"
     ]
    },
    {
     "data": {
      "text/plain": [
       "[Parameter containing:\n",
       " tensor([[-0.0295, -0.0256, -0.0008,  ..., -0.0099,  0.0066, -0.0283],\n",
       "         [ 0.0247, -0.0237,  0.0022,  ..., -0.0187,  0.0031, -0.0152],\n",
       "         [-0.0068, -0.0222,  0.0136,  ...,  0.0223,  0.0204,  0.0235],\n",
       "         ...,\n",
       "         [-0.0268,  0.0287, -0.0179,  ...,  0.0133, -0.0013, -0.0319],\n",
       "         [ 0.0247,  0.0338,  0.0251,  ...,  0.0099,  0.0102,  0.0308],\n",
       "         [ 0.0128,  0.0104, -0.0193,  ..., -0.0063,  0.0169, -0.0017]],\n",
       "        requires_grad=True), Parameter containing:\n",
       " tensor([ 0.0187, -0.0189,  0.0176, -0.0108,  0.0257,  0.0147, -0.0167,  0.0319,\n",
       "         -0.0262, -0.0069], requires_grad=True)]"
      ]
     },
     "execution_count": 30,
     "metadata": {},
     "output_type": "execute_result"
    }
   ],
   "source": [
    "print(model.linear.weight.shape, model.linear.bias.shape)\n",
    "list(model.parameters()) # 返回包含权重和偏差的列表"
   ]
  },
  {
   "cell_type": "code",
   "execution_count": 31,
   "metadata": {},
   "outputs": [
    {
     "name": "stdout",
     "output_type": "stream",
     "text": [
      "outputs.shape :  torch.Size([100, 10])\n",
      "Sample outputs :\n",
      " tensor([[ 0.1846, -0.0555,  0.1163,  0.0377, -0.2811,  0.0452,  0.0603,  0.0935,\n",
      "          0.1397, -0.0840],\n",
      "        [-0.1666,  0.0475,  0.4868, -0.2980, -0.0412,  0.0668, -0.0506, -0.1591,\n",
      "         -0.0080,  0.3366]])\n"
     ]
    }
   ],
   "source": [
    "for images, labels in train_loader:\n",
    "    outputs = model(images)\n",
    "    break\n",
    "\n",
    "print('outputs.shape : ', outputs.shape)\n",
    "print('Sample outputs :\\n', outputs[:2].data)"
   ]
  },
  {
   "cell_type": "code",
   "execution_count": 32,
   "metadata": {},
   "outputs": [
    {
     "name": "stdout",
     "output_type": "stream",
     "text": [
      "outputs.shape :  torch.Size([100, 10])\n",
      "Sample outputs :\n",
      " tensor([[-0.0859, -0.0300,  0.1691, -0.1258, -0.2122,  0.1627, -0.2197, -0.1946,\n",
      "          0.1369,  0.2111],\n",
      "        [ 0.1207,  0.2300,  0.4857, -0.0645,  0.2487, -0.0302,  0.1075,  0.1674,\n",
      "          0.0404,  0.1104]])\n"
     ]
    }
   ],
   "source": [
    "for images, labels in train_loader:\n",
    "    outputs = model(images)\n",
    "    break\n",
    "\n",
    "print('outputs.shape : ', outputs.shape)\n",
    "print('Sample outputs :\\n', outputs[:2].data)"
   ]
  },
  {
   "cell_type": "code",
   "execution_count": 33,
   "metadata": {},
   "outputs": [],
   "source": [
    "import torch.nn.functional as F"
   ]
  },
  {
   "cell_type": "code",
   "execution_count": 34,
   "metadata": {},
   "outputs": [
    {
     "name": "stdout",
     "output_type": "stream",
     "text": [
      "Sample probabilities:\n",
      " tensor([[0.0923, 0.0976, 0.1190, 0.0886, 0.0813, 0.1183, 0.0807, 0.0828, 0.1153,\n",
      "         0.1242],\n",
      "        [0.0968, 0.1080, 0.1394, 0.0804, 0.1100, 0.0832, 0.0955, 0.1014, 0.0893,\n",
      "         0.0958]])\n",
      "Sum:  1.0\n"
     ]
    }
   ],
   "source": [
    "# Apply softmax for each output row\n",
    "probs = F.softmax(outputs, dim=1)\n",
    "\n",
    "# Look at sample probabilities\n",
    "print(\"Sample probabilities:\\n\", probs[:2].data)\n",
    "\n",
    "# Add up the probabilities of an output row\n",
    "print(\"Sum: \", torch.sum(probs[0]).item())"
   ]
  },
  {
   "cell_type": "code",
   "execution_count": 35,
   "metadata": {},
   "outputs": [
    {
     "name": "stdout",
     "output_type": "stream",
     "text": [
      "tensor([9, 2, 0, 9, 8, 2, 2, 2, 2, 5, 2, 5, 2, 3, 2, 9, 0, 2, 1, 5, 2, 2, 9, 3,\n",
      "        0, 2, 2, 9, 0, 2, 2, 5, 2, 2, 2, 9, 3, 9, 2, 9, 9, 2, 7, 8, 2, 2, 2, 9,\n",
      "        2, 2, 6, 2, 9, 2, 2, 0, 1, 2, 2, 1, 1, 2, 0, 2, 2, 8, 6, 2, 2, 2, 5, 9,\n",
      "        9, 8, 1, 2, 8, 3, 2, 0, 2, 2, 2, 3, 9, 2, 7, 2, 6, 2, 2, 2, 8, 9, 2, 9,\n",
      "        2, 6, 9, 9])\n"
     ]
    }
   ],
   "source": [
    "max_probs,preds = torch.max(probs,dim=1)\n",
    "print(preds)"
   ]
  },
  {
   "cell_type": "code",
   "execution_count": 36,
   "metadata": {},
   "outputs": [
    {
     "data": {
      "text/plain": [
       "tensor([9, 2, 2, 7, 9, 4, 6, 6, 9, 4, 5, 4, 4, 8, 2, 1, 1, 1, 9, 7, 1, 1, 8, 5,\n",
       "        5, 2, 8, 4, 3, 0, 1, 8, 1, 5, 2, 4, 9, 7, 3, 6, 1, 6, 5, 7, 6, 8, 1, 1,\n",
       "        2, 0, 0, 8, 1, 0, 1, 2, 8, 2, 4, 5, 5, 1, 3, 1, 7, 8, 9, 6, 1, 2, 7, 4,\n",
       "        5, 7, 3, 2, 5, 4, 1, 3, 4, 6, 3, 4, 8, 5, 0, 8, 7, 1, 9, 6, 4, 1, 4, 4,\n",
       "        4, 0, 1, 8])"
      ]
     },
     "execution_count": 36,
     "metadata": {},
     "output_type": "execute_result"
    }
   ],
   "source": [
    "labels"
   ]
  },
  {
   "cell_type": "code",
   "execution_count": 37,
   "metadata": {},
   "outputs": [],
   "source": [
    "# 评估度量和损失函数\n",
    "def accuracy(l1,l2):\n",
    "    return torch.sum(l1 == l2).item() / len(l1)"
   ]
  },
  {
   "cell_type": "code",
   "execution_count": 38,
   "metadata": {},
   "outputs": [
    {
     "data": {
      "text/plain": [
       "0.1"
      ]
     },
     "execution_count": 38,
     "metadata": {},
     "output_type": "execute_result"
    }
   ],
   "source": [
    "accuracy(preds,labels)"
   ]
  },
  {
   "cell_type": "code",
   "execution_count": 39,
   "metadata": {},
   "outputs": [],
   "source": [
    "loss_fn = F.cross_entropy"
   ]
  },
  {
   "cell_type": "code",
   "execution_count": 40,
   "metadata": {},
   "outputs": [
    {
     "name": "stdout",
     "output_type": "stream",
     "text": [
      "tensor(2.3327, grad_fn=<NllLossBackward>)\n"
     ]
    }
   ],
   "source": [
    "loss = loss_fn(outputs,labels)\n",
    "print(loss)"
   ]
  },
  {
   "cell_type": "code",
   "execution_count": 41,
   "metadata": {},
   "outputs": [],
   "source": [
    "# 优化\n",
    "learning_rate = 0.001\n",
    "optimizer = torch.optim.SGD(model.parameters(),lr=learning_rate)"
   ]
  },
  {
   "cell_type": "code",
   "execution_count": 44,
   "metadata": {},
   "outputs": [],
   "source": [
    "# 训练模型\n",
    "def loss_batch(model,loss_func,xb,yb,opt=None,metric=None):\n",
    "    # 计算损失\n",
    "    preds = model(xb)\n",
    "    loss = loss_func(preds,yb)\n",
    "    if opt is not None:\n",
    "        # 计算梯度\n",
    "        loss.backward()\n",
    "        # 更新参数\n",
    "        opt.step()\n",
    "        # 重置梯度\n",
    "        opt.zero_grad()\n",
    "    metric_result = None\n",
    "    if metric is not None:\n",
    "        # 计算矩阵\n",
    "        metric_result = metric(preds,yb)\n",
    "    return loss.item(),len(xb),metric_result"
   ]
  },
  {
   "cell_type": "code",
   "execution_count": 45,
   "metadata": {},
   "outputs": [],
   "source": [
    "#  计算验证集的总体损失\n",
    "def evaluate(model, loss_fn, valid_dl, metric=None):\n",
    "    with torch.no_grad():\n",
    "        # Pass each batch through the model\n",
    "        results = [loss_batch(model, loss_fn, xb, yb, metric=metric)\n",
    "                   for xb,yb in valid_dl]\n",
    "        # Separate losses, counts and metrics\n",
    "        losses, nums, metrics = zip(*results)\n",
    "        # Total size of the dataset\n",
    "        total = np.sum(nums)\n",
    "        # Avg. loss across batches \n",
    "        avg_loss = np.sum(np.multiply(losses, nums)) / total\n",
    "        avg_metric = None\n",
    "        if metric is not None:\n",
    "            # Avg. of metric across batches\n",
    "            avg_metric = np.sum(np.multiply(metrics, nums)) / total\n",
    "    return avg_loss, total, avg_metric"
   ]
  },
  {
   "cell_type": "code",
   "execution_count": 46,
   "metadata": {},
   "outputs": [],
   "source": [
    "def accuracy(outputs, labels):\n",
    "    _, preds = torch.max(outputs, dim=1)\n",
    "    return torch.sum(preds == labels).item() / len(preds)"
   ]
  },
  {
   "cell_type": "code",
   "execution_count": 47,
   "metadata": {},
   "outputs": [
    {
     "name": "stdout",
     "output_type": "stream",
     "text": [
      "Loss: 2.3186, Accuracy: 0.1120\n"
     ]
    }
   ],
   "source": [
    "val_loss, total, val_acc = evaluate(model, loss_fn, val_loader, metric=accuracy)\n",
    "print('Loss: {:.4f}, Accuracy: {:.4f}'.format(val_loss, val_acc))"
   ]
  },
  {
   "cell_type": "code",
   "execution_count": 48,
   "metadata": {},
   "outputs": [],
   "source": [
    "def fit(epochs, model, loss_fn, opt, train_dl, valid_dl, metric=None):\n",
    "    for epoch in range(epochs):\n",
    "        # Training\n",
    "        for xb,yb in train_dl:\n",
    "            loss,_,_ = loss_batch(model, loss_fn, xb, yb, opt)\n",
    "\n",
    "        # Evaluation\n",
    "        result = evaluate(model, loss_fn, valid_dl, metric)\n",
    "        val_loss, total, val_metric = result\n",
    "        \n",
    "        # Print progress\n",
    "        if metric is None:\n",
    "            print('Epoch [{}/{}], Loss: {:.4f}'\n",
    "                  .format(epoch+1, epochs, val_loss))\n",
    "        else:\n",
    "            print('Epoch [{}/{}], Loss: {:.4f}, {}: {:.4f}'\n",
    "                  .format(epoch+1, epochs, val_loss, metric.__name__, val_metric))"
   ]
  },
  {
   "cell_type": "code",
   "execution_count": 49,
   "metadata": {},
   "outputs": [],
   "source": [
    "# Redifine model and optimizer\n",
    "model = MnistModel()\n",
    "optimizer = torch.optim.SGD(model.parameters(), lr=learning_rate)"
   ]
  },
  {
   "cell_type": "code",
   "execution_count": 50,
   "metadata": {},
   "outputs": [
    {
     "name": "stdout",
     "output_type": "stream",
     "text": [
      "Epoch [1/5], Loss: 1.8831, accuracy: 0.6896\n",
      "Epoch [2/5], Loss: 1.5811, accuracy: 0.7637\n",
      "Epoch [3/5], Loss: 1.3696, accuracy: 0.7887\n",
      "Epoch [4/5], Loss: 1.2181, accuracy: 0.8004\n",
      "Epoch [5/5], Loss: 1.1062, accuracy: 0.8117\n"
     ]
    }
   ],
   "source": [
    "fit(5, model, F.cross_entropy, optimizer, train_loader, val_loader, accuracy)"
   ]
  },
  {
   "cell_type": "code",
   "execution_count": 51,
   "metadata": {},
   "outputs": [
    {
     "name": "stdout",
     "output_type": "stream",
     "text": [
      "Epoch [1/5], Loss: 1.0209, accuracy: 0.8203\n",
      "Epoch [2/5], Loss: 0.9536, accuracy: 0.8255\n",
      "Epoch [3/5], Loss: 0.8994, accuracy: 0.8294\n",
      "Epoch [4/5], Loss: 0.8548, accuracy: 0.8328\n",
      "Epoch [5/5], Loss: 0.8175, accuracy: 0.8352\n"
     ]
    }
   ],
   "source": [
    "fit(5, model, F.cross_entropy, optimizer, train_loader, val_loader, accuracy)"
   ]
  },
  {
   "cell_type": "code",
   "execution_count": 52,
   "metadata": {},
   "outputs": [
    {
     "name": "stdout",
     "output_type": "stream",
     "text": [
      "Epoch [1/5], Loss: 0.7856, accuracy: 0.8377\n",
      "Epoch [2/5], Loss: 0.7582, accuracy: 0.8401\n",
      "Epoch [3/5], Loss: 0.7343, accuracy: 0.8423\n",
      "Epoch [4/5], Loss: 0.7131, accuracy: 0.8450\n",
      "Epoch [5/5], Loss: 0.6944, accuracy: 0.8475\n"
     ]
    }
   ],
   "source": [
    "fit(5, model, F.cross_entropy, optimizer, train_loader, val_loader, accuracy)"
   ]
  },
  {
   "cell_type": "code",
   "execution_count": 53,
   "metadata": {},
   "outputs": [
    {
     "name": "stdout",
     "output_type": "stream",
     "text": [
      "Epoch [1/5], Loss: 0.6777, accuracy: 0.8488\n",
      "Epoch [2/5], Loss: 0.6626, accuracy: 0.8507\n",
      "Epoch [3/5], Loss: 0.6489, accuracy: 0.8531\n",
      "Epoch [4/5], Loss: 0.6364, accuracy: 0.8541\n",
      "Epoch [5/5], Loss: 0.6250, accuracy: 0.8552\n"
     ]
    }
   ],
   "source": [
    "fit(5, model, F.cross_entropy, optimizer, train_loader, val_loader, accuracy)"
   ]
  },
  {
   "cell_type": "code",
   "execution_count": 54,
   "metadata": {},
   "outputs": [
    {
     "data": {
      "image/png": "[encoded data removed]",
      "text/plain": [
       "<Figure size 432x288 with 1 Axes>"
      ]
     },
     "metadata": {},
     "output_type": "display_data"
    }
   ],
   "source": [
    "# Replace these values with your results\n",
    "accuracies = [0.1076, 0.6486, 0.7362, 0.7737, 0.7925, 0.8069, \n",
    "              0.8165, 0.8227, 0.8269, 0.8325, 0.8367,\n",
    "              0.8399, 0.8438, 0.8463, 0.8482, 0.8512,\n",
    "              0.8529, 0.8552, 0.8563, 0.8587, 0.8606]\n",
    "plt.plot(accuracies, '-x')\n",
    "plt.xlabel('epoch')\n",
    "plt.ylabel('accuracy')\n",
    "plt.title('Accuracy vs. No. of epochs');"
   ]
  },
  {
   "cell_type": "code",
   "execution_count": 56,
   "metadata": {},
   "outputs": [],
   "source": [
    "# Define test dataset\n",
    "test_dataset = MNIST(root='../dataset/', \n",
    "                     train=False,\n",
    "                     transform=transforms.ToTensor())"
   ]
  },
  {
   "cell_type": "code",
   "execution_count": 57,
   "metadata": {},
   "outputs": [
    {
     "name": "stdout",
     "output_type": "stream",
     "text": [
      "Shape: torch.Size([1, 28, 28])\n",
      "Label: 7\n"
     ]
    },
    {
     "data": {
      "image/png": "[encoded data removed]",
      "text/plain": [
       "<Figure size 432x288 with 1 Axes>"
      ]
     },
     "metadata": {},
     "output_type": "display_data"
    }
   ],
   "source": [
    "img, label = test_dataset[0]\n",
    "plt.imshow(img[0], cmap='gray')\n",
    "print('Shape:', img.shape)\n",
    "print('Label:', label)"
   ]
  },
  {
   "cell_type": "code",
   "execution_count": 58,
   "metadata": {},
   "outputs": [],
   "source": [
    "def predict_image(img, model):\n",
    "    xb = img.unsqueeze(0)\n",
    "    yb = model(xb)\n",
    "    _, preds  = torch.max(yb, dim=1)\n",
    "    return preds[0].item()"
   ]
  },
  {
   "cell_type": "code",
   "execution_count": 59,
   "metadata": {},
   "outputs": [
    {
     "name": "stdout",
     "output_type": "stream",
     "text": [
      "Label: 7 , Predicted: 7\n"
     ]
    },
    {
     "data": {
      "image/png": "[encoded data removed]",
      "text/plain": [
       "<Figure size 432x288 with 1 Axes>"
      ]
     },
     "metadata": {},
     "output_type": "display_data"
    }
   ],
   "source": [
    "img, label = test_dataset[0]\n",
    "plt.imshow(img[0], cmap='gray')\n",
    "print('Label:', label, ', Predicted:', predict_image(img, model))"
   ]
  },
  {
   "cell_type": "code",
   "execution_count": 60,
   "metadata": {},
   "outputs": [
    {
     "name": "stdout",
     "output_type": "stream",
     "text": [
      "Label: 0 , Predicted: 0\n"
     ]
    },
    {
     "data": {
      "image/png": "[encoded data removed]",
      "text/plain": [
       "<Figure size 432x288 with 1 Axes>"
      ]
     },
     "metadata": {},
     "output_type": "display_data"
    }
   ],
   "source": [
    "img, label = test_dataset[10]\n",
    "plt.imshow(img[0], cmap='gray')\n",
    "print('Label:', label, ', Predicted:', predict_image(img, model))"
   ]
  },
  {
   "cell_type": "code",
   "execution_count": 61,
   "metadata": {},
   "outputs": [
    {
     "name": "stdout",
     "output_type": "stream",
     "text": [
      "Label: 9 , Predicted: 4\n"
     ]
    },
    {
     "data": {
      "image/png": "[encoded data removed]",
      "text/plain": [
       "<Figure size 432x288 with 1 Axes>"
      ]
     },
     "metadata": {},
     "output_type": "display_data"
    }
   ],
   "source": [
    "img, label = test_dataset[193]\n",
    "plt.imshow(img[0], cmap='gray')\n",
    "print('Label:', label, ', Predicted:', predict_image(img, model))"
   ]
  },
  {
   "cell_type": "code",
   "execution_count": 62,
   "metadata": {},
   "outputs": [
    {
     "name": "stdout",
     "output_type": "stream",
     "text": [
      "Label: 3 , Predicted: 5\n"
     ]
    },
    {
     "data": {
      "image/png": "[encoded data removed]",
      "text/plain": [
       "<Figure size 432x288 with 1 Axes>"
      ]
     },
     "metadata": {},
     "output_type": "display_data"
    }
   ],
   "source": [
    "img, label = test_dataset[1889]\n",
    "plt.imshow(img[0], cmap='gray')\n",
    "print('Label:', label, ', Predicted:', predict_image(img, model))"
   ]
  },
  {
   "cell_type": "code",
   "execution_count": 63,
   "metadata": {},
   "outputs": [
    {
     "name": "stdout",
     "output_type": "stream",
     "text": [
      "Loss: 0.5947, Accuracy: 0.8682\n"
     ]
    }
   ],
   "source": [
    "test_loader = DataLoader(test_dataset, batch_size=200)\n",
    "\n",
    "test_loss, total, test_acc = evaluate(model, loss_fn, test_loader, metric=accuracy)\n",
    "print('Loss: {:.4f}, Accuracy: {:.4f}'.format(test_loss, test_acc))"
   ]
  },
  {
   "cell_type": "code",
   "execution_count": 64,
   "metadata": {},
   "outputs": [],
   "source": [
    "# 保存加载模型\n",
    "torch.save(model.state_dict(),'../dataset/mnist_logistic.pth')"
   ]
  },
  {
   "cell_type": "code",
   "execution_count": 65,
   "metadata": {},
   "outputs": [
    {
     "data": {
      "text/plain": [
       "OrderedDict([('linear.weight',\n",
       "              tensor([[ 2.8604e-02,  3.0332e-02,  3.2241e-02,  ...,  2.7478e-02,\n",
       "                        4.4436e-03, -1.1815e-02],\n",
       "                      [ 2.1928e-02,  2.1416e-02,  3.0131e-03,  ..., -2.9282e-02,\n",
       "                        1.5006e-02,  2.1047e-02],\n",
       "                      [-2.8020e-02,  8.7929e-03,  3.2058e-02,  ...,  4.5490e-05,\n",
       "                       -4.3436e-03,  2.9610e-02],\n",
       "                      ...,\n",
       "                      [ 1.3719e-02, -2.9503e-02,  3.6410e-03,  ...,  1.0788e-02,\n",
       "                       -5.8315e-03,  2.0756e-02],\n",
       "                      [-7.5518e-03,  2.4706e-02,  8.5890e-03,  ..., -1.3711e-02,\n",
       "                        4.5113e-03,  2.5724e-03],\n",
       "                      [ 7.0339e-04, -2.4474e-02, -1.7951e-02,  ..., -2.4362e-02,\n",
       "                        3.4991e-02, -2.3155e-02]])),\n",
       "             ('linear.bias',\n",
       "              tensor([-0.0268,  0.0751, -0.0590, -0.0202,  0.0337,  0.0573, -0.0072,  0.0452,\n",
       "                      -0.1083, -0.0294]))])"
      ]
     },
     "execution_count": 65,
     "metadata": {},
     "output_type": "execute_result"
    }
   ],
   "source": [
    "model.state_dict()"
   ]
  },
  {
   "cell_type": "code",
   "execution_count": 66,
   "metadata": {},
   "outputs": [
    {
     "data": {
      "text/plain": [
       "OrderedDict([('linear.weight',\n",
       "              tensor([[ 2.8604e-02,  3.0332e-02,  3.2241e-02,  ...,  2.7478e-02,\n",
       "                        4.4436e-03, -1.1815e-02],\n",
       "                      [ 2.1928e-02,  2.1416e-02,  3.0131e-03,  ..., -2.9282e-02,\n",
       "                        1.5006e-02,  2.1047e-02],\n",
       "                      [-2.8020e-02,  8.7929e-03,  3.2058e-02,  ...,  4.5490e-05,\n",
       "                       -4.3436e-03,  2.9610e-02],\n",
       "                      ...,\n",
       "                      [ 1.3719e-02, -2.9503e-02,  3.6410e-03,  ...,  1.0788e-02,\n",
       "                       -5.8315e-03,  2.0756e-02],\n",
       "                      [-7.5518e-03,  2.4706e-02,  8.5890e-03,  ..., -1.3711e-02,\n",
       "                        4.5113e-03,  2.5724e-03],\n",
       "                      [ 7.0339e-04, -2.4474e-02, -1.7951e-02,  ..., -2.4362e-02,\n",
       "                        3.4991e-02, -2.3155e-02]])),\n",
       "             ('linear.bias',\n",
       "              tensor([-0.0268,  0.0751, -0.0590, -0.0202,  0.0337,  0.0573, -0.0072,  0.0452,\n",
       "                      -0.1083, -0.0294]))])"
      ]
     },
     "execution_count": 66,
     "metadata": {},
     "output_type": "execute_result"
    }
   ],
   "source": [
    "model2  = MnistModel()\n",
    "model2.load_state_dict(torch.load('../dataset/mnist_logistic.pth'))\n",
    "model2.state_dict()"
   ]
  },
  {
   "cell_type": "code",
   "execution_count": 67,
   "metadata": {},
   "outputs": [
    {
     "name": "stdout",
     "output_type": "stream",
     "text": [
      "Loss: 0.5947, Accuracy: 0.8682\n"
     ]
    }
   ],
   "source": [
    "test_loss, total, test_acc = evaluate(model, loss_fn, test_loader, metric=accuracy)\n",
    "print('Loss: {:.4f}, Accuracy: {:.4f}'.format(test_loss, test_acc))"
   ]
  },
  {
   "cell_type": "code",
   "execution_count": null,
   "metadata": {},
   "outputs": [],
   "source": []
  }
 ],
 "metadata": {
  "kernelspec": {
   "display_name": "Python 3",
   "language": "python",
   "name": "python3"
  },
  "language_info": {
   "codemirror_mode": {
    "name": "ipython",
    "version": 3
   },
   "file_extension": ".py",
   "mimetype": "text/x-python",
   "name": "python",
   "nbconvert_exporter": "python",
   "pygments_lexer": "ipython3",
   "version": "3.6.5"
  },
  "toc": {
   "base_numbering": 1,
   "nav_menu": {},
   "number_sections": true,
   "sideBar": true,
   "skip_h1_title": false,
   "title_cell": "Table of Contents",
   "title_sidebar": "Contents",
   "toc_cell": false,
   "toc_position": {},
   "toc_section_display": true,
   "toc_window_display": false
  },
  "varInspector": {
   "cols": {
    "lenName": 16,
    "lenType": 16,
    "lenVar": 40
   },
   "kernels_config": {
    "python": {
     "delete_cmd_postfix": "",
     "delete_cmd_prefix": "del ",
     "library": "var_list.py",
     "varRefreshCmd": "print(var_dic_list())"
    },
    "r": {
     "delete_cmd_postfix": ") ",
     "delete_cmd_prefix": "rm(",
     "library": "var_list.r",
     "varRefreshCmd": "cat(var_dic_list()) "
    }
   },
   "types_to_exclude": [
    "module",
    "function",
    "builtin_function_or_method",
    "instance",
    "_Feature"
   ],
   "window_display": false
  }
 },
 "nbformat": 4,
 "nbformat_minor": 2
}
