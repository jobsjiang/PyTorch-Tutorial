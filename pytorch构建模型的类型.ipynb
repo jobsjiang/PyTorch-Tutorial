{
 "cells": [
  {
   "cell_type": "markdown",
   "metadata": {},
   "source": [
    "https://mp.weixin.qq.com/s/d8L5-bKxfQcW8B1lEj80NQ"
   ]
  },
  {
   "cell_type": "markdown",
   "metadata": {},
   "source": [
    "### pytorch创建模型的四种方法"
   ]
  },
  {
   "cell_type": "code",
   "execution_count": 1,
   "metadata": {},
   "outputs": [],
   "source": [
    "# 导入包\n",
    "import torch\n",
    "import torch.nn.functional as F\n",
    "from collections import OrderedDict"
   ]
  },
  {
   "cell_type": "markdown",
   "metadata": {},
   "source": [
    "#### 1.自定义类型[定义在init,前向过程在forward]"
   ]
  },
  {
   "cell_type": "code",
   "execution_count": 3,
   "metadata": {},
   "outputs": [],
   "source": [
    "class Net1(torch.nn.Module):\n",
    "    def __init__(self):\n",
    "        super(Net1,self).__init__()\n",
    "        self.conv1 = torch.nn.Conv2d(3,32,3,1,1)\n",
    "        self.dense1 = torch.nn.Linear(32*3*3,128)\n",
    "        self.dense2 = torch.nn.Linear(128,10)\n",
    "    def forward(self,x):\n",
    "        x = F.max_pool2d(F.relu(self.conv1(x)),2)\n",
    "        x = x.view(x.size(x),-1)\n",
    "        x = F.relu(self.dense1(x))\n",
    "        x = self.dense2(x)\n",
    "        \n",
    "        return x"
   ]
  },
  {
   "cell_type": "markdown",
   "metadata": {},
   "source": [
    "#### 2.序列继承型[利用nn.Sequential(顺序执行的层函数)]"
   ]
  },
  {
   "cell_type": "code",
   "execution_count": 4,
   "metadata": {},
   "outputs": [],
   "source": [
    "class Net2(torch.nn.Module):\n",
    "    def __init__(self):\n",
    "        super(Net2,self).__init__()\n",
    "        self.conv = torch.nn.Sequential(\n",
    "            torch.nn.Conv2d(3,32,3,1,1),\n",
    "            torch.nn.ReLU(),\n",
    "            torch.nn.MaxPool2d(2)\n",
    "        )\n",
    "        self.dense = torch.nn.Sequential(\n",
    "            torch.nn.Linear(32*3*3,128),\n",
    "            torch.nn.ReLU(),\n",
    "            torch.nn.Linear(128,10)\n",
    "        )\n",
    "    def forward(self,x):\n",
    "        conv_out = self.conv(x)\n",
    "        res = conv_out.view(conv_out.size(0),-1)\n",
    "        out = self.dense(res)\n",
    "        return out"
   ]
  },
  {
   "cell_type": "markdown",
   "metadata": {},
   "source": [
    "#### 3.序列添加型[利用Sequential类add_module顺序逐层添加] \\n\n",
    "给予各层的name属性"
   ]
  },
  {
   "cell_type": "code",
   "execution_count": 5,
   "metadata": {},
   "outputs": [],
   "source": [
    "class Net3(torch.nn.Module):\n",
    "    def __init__(self):\n",
    "        super(Net3,self).__init__()\n",
    "        self.conv = torch.nn.Sequential()\n",
    "        self.conv.add_module(\"conv1\",torch.nn.Conv2d(3, 32, 3, 1, 1))\n",
    "        self.conv.add_module(\"relu1\",torch.nn.ReLU())\n",
    "        self.conv.add_module(\"pool1\",torch.nn.MaxPool2d(2))\n",
    "        self.dense = torch.nn.Sequential()\n",
    "        self.dense.add_module(\"dense1\",torch.nn.Linear(32 * 3 * 3, 128))\n",
    "        self.dense.add_module(\"relu2\",torch.nn.ReLU())\n",
    "        self.dense.add_module(\"dense2\",torch.nn.Linear(128, 10))\n",
    "    def forward(self,x):\n",
    "        conv_out = self.conv(x)\n",
    "        res = conv_out.view(conv_out.size(0), -1)\n",
    "        out = self.dense(res)\n",
    "        return out"
   ]
  },
  {
   "cell_type": "markdown",
   "metadata": {},
   "source": [
    "#### 4.序列集成字典型[OrderDict集成模型字典['name':层函数]] \\n\n",
    "name为key"
   ]
  },
  {
   "cell_type": "code",
   "execution_count": null,
   "metadata": {},
   "outputs": [],
   "source": [
    "class Net4(torch.nn.Module):\n",
    "    def __init__(self):\n",
    "        super(Net4,self).__init__()\n",
    "        self.conv = torch.nn.Sequential(\n",
    "            OrderedDict(\n",
    "                [\n",
    "                (\"conv1\",torch.nn.Conv2d(3,32,3,1,1)),\n",
    "                (\"relu1\", torch.nn.ReLU()),\n",
    "                (\"pool\", torch.nn.MaxPool2d(2))\n",
    "                ]\n",
    "            )\n",
    "        )\n",
    "        self.dense = torch.nn.Sequential(\n",
    "            OrderedDict(\n",
    "                [\n",
    "                    (\"dense1\", torch.nn.Linear(32 * 3 * 3, 128)),\n",
    "                    (\"relu2\", torch.nn.ReLU()),\n",
    "                    (\"dense2\", torch.nn.Linear(128, 10))\n",
    "                ]\n",
    "            )\n",
    "        )\n",
    "    def forward(self,x):\n",
    "        conv_out = self.conv1(x)\n",
    "        res = conv_out.view(conv_out.size(0), -1)\n",
    "        out = self.dense(res)\n",
    "        return out"
   ]
  }
 ],
 "metadata": {
  "kernelspec": {
   "display_name": "Python [conda env:root]",
   "language": "python",
   "name": "conda-root-py"
  },
  "language_info": {
   "codemirror_mode": {
    "name": "ipython",
    "version": 3
   },
   "file_extension": ".py",
   "mimetype": "text/x-python",
   "name": "python",
   "nbconvert_exporter": "python",
   "pygments_lexer": "ipython3",
   "version": "3.6.5"
  }
 },
 "nbformat": 4,
 "nbformat_minor": 4
}
